{
 "cells": [
  {
   "cell_type": "markdown",
   "metadata": {},
   "source": [
    "# Defender Threat Hunting Tutorial\n",
    "\n",
    "This notebook demonstrates how to use Microsoft 365 Defender data and KQL queries to hunt for threats. It covers query optimization, analysis, and converting query results into actionable incidents."
   ]
  },
  {
   "cell_type": "code",
   "execution_count": null,
   "metadata": {},
   "outputs": [],
   "source": [
    "# Example KQL query for hunting failed signins\n",
    "query = \"\"\"\n",
    "SigninLogs\n",
    "| where ResultType != 0\n",
    "| extend Country = tostring(LocationDetails.CountryOrRegion)\n",
    "| summarize FailedAttempts = count() by IPAddress, Country, bin(TimeGenerated, 1h)\n",
    "| where FailedAttempts > 5\n",
    "\"\"\"\n",
    "print(query)"
   ]
  }
 ],
 "metadata": {
  "kernelspec": {
   "display_name": "Python 3",
   "language": "python",
   "name": "python3"
  },
  "language_info": {
   "name": "python",
   "version": "3.x"
  }
 },
 "nbformat": 4,
 "nbformat_minor": 2
}
